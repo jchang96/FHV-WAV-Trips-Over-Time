{
 "cells": [
  {
   "cell_type": "code",
   "execution_count": 1,
   "metadata": {},
   "outputs": [],
   "source": [
    "import pandas as pd\n",
    "import folium\n",
    "from folium.plugins import HeatMapWithTime"
   ]
  },
  {
   "cell_type": "code",
   "execution_count": 2,
   "metadata": {},
   "outputs": [
    {
     "name": "stderr",
     "output_type": "stream",
     "text": [
      "C:\\Users\\changje\\AppData\\Local\\Continuum\\anaconda3\\lib\\site-packages\\IPython\\core\\interactiveshell.py:3057: DtypeWarning: Columns (2,3,4,7,9,10,13,14,15,16,17,19,20,21,22,33,48) have mixed types. Specify dtype option on import or set low_memory=False.\n",
      "  interactivity=interactivity, compiler=compiler, result=result)\n"
     ]
    },
    {
     "name": "stdout",
     "output_type": "stream",
     "text": [
      "<class 'pandas.core.frame.DataFrame'>\n",
      "Int64Index: 763668 entries, 1 to 795205\n",
      "Data columns (total 4 columns):\n",
      "Pickup_longitude    763668 non-null object\n",
      "Pickup_latitude     763668 non-null object\n",
      "DateTimeID          763668 non-null int64\n",
      "Pickup_DateTime     763668 non-null object\n",
      "dtypes: int64(1), object(3)\n",
      "memory usage: 29.1+ MB\n"
     ]
    }
   ],
   "source": [
    "# read csv \n",
    "df = pd.read_csv(\"fhv_wav_201901-06_run-2019_08_16_.csv\")\n",
    "\n",
    "# drop nulls\n",
    "df.dropna(subset=['Pickup_longitude'], inplace=True)\n",
    "df.dropna(subset=['Pickup_latitude'], inplace=True)\n",
    "df.dropna(subset=['DateTimeID'], inplace=True)\n",
    "df.dropna(subset=['Pickup_DateTime'], inplace=True)\n",
    "\n",
    "# remove useless columns\n",
    "df = df [['Pickup_longitude','Pickup_latitude','DateTimeID','Pickup_DateTime']]\n",
    "\n",
    "df.info()"
   ]
  },
  {
   "cell_type": "code",
   "execution_count": 3,
   "metadata": {},
   "outputs": [],
   "source": [
    "# convert latitude and longitude to numeric\n",
    "df['Pickup_longitude'] = pd.to_numeric(df['Pickup_longitude'], errors='coerce')\n",
    "df['Pickup_latitude'] = pd.to_numeric(df['Pickup_latitude'], errors='coerce')\n",
    "\n",
    "# reformat pickup_datetime\n",
    "df.Pickup_DateTime = pd.to_datetime(df.Pickup_DateTime, format='%Y-%m-%d %H:%M:%S')\n",
    "\n",
    "# create columns for time series\n",
    "df['month'] = df.Pickup_DateTime.apply(lambda x: x.month)\n",
    "df['week'] = df.Pickup_DateTime.apply(lambda x: x.week)\n",
    "df['day'] = df.Pickup_DateTime.apply(lambda x: x.day)\n",
    "df['hour'] = df.Pickup_DateTime.apply(lambda x: x.hour)"
   ]
  },
  {
   "cell_type": "code",
   "execution_count": 4,
   "metadata": {},
   "outputs": [
    {
     "data": {
      "text/plain": [
       "Pickup_longitude    466\n",
       "Pickup_latitude     466\n",
       "DateTimeID            0\n",
       "Pickup_DateTime       0\n",
       "month                 0\n",
       "week                  0\n",
       "day                   0\n",
       "hour                  0\n",
       "dtype: int64"
      ]
     },
     "execution_count": 4,
     "metadata": {},
     "output_type": "execute_result"
    }
   ],
   "source": [
    "# Check for nulls\n",
    "df.apply(lambda x: x.isnull().sum())"
   ]
  },
  {
   "cell_type": "code",
   "execution_count": 5,
   "metadata": {},
   "outputs": [],
   "source": [
    "df_copy = df[df.month>5].copy()\n",
    "df_copy['count'] = 1"
   ]
  },
  {
   "cell_type": "code",
   "execution_count": 6,
   "metadata": {},
   "outputs": [
    {
     "data": {
      "text/html": [
       "<div>\n",
       "<style scoped>\n",
       "    .dataframe tbody tr th:only-of-type {\n",
       "        vertical-align: middle;\n",
       "    }\n",
       "\n",
       "    .dataframe tbody tr th {\n",
       "        vertical-align: top;\n",
       "    }\n",
       "\n",
       "    .dataframe thead th {\n",
       "        text-align: right;\n",
       "    }\n",
       "</style>\n",
       "<table border=\"1\" class=\"dataframe\">\n",
       "  <thead>\n",
       "    <tr style=\"text-align: right;\">\n",
       "      <th></th>\n",
       "      <th></th>\n",
       "      <th>count</th>\n",
       "    </tr>\n",
       "    <tr>\n",
       "      <th>Pickup_latitude</th>\n",
       "      <th>Pickup_longitude</th>\n",
       "      <th></th>\n",
       "    </tr>\n",
       "  </thead>\n",
       "  <tbody>\n",
       "    <tr>\n",
       "      <th rowspan=\"2\" valign=\"top\">40.769600</th>\n",
       "      <th>-73.86280</th>\n",
       "      <td>33</td>\n",
       "    </tr>\n",
       "    <tr>\n",
       "      <th>-73.86340</th>\n",
       "      <td>31</td>\n",
       "    </tr>\n",
       "    <tr>\n",
       "      <th>40.769700</th>\n",
       "      <th>-73.86320</th>\n",
       "      <td>25</td>\n",
       "    </tr>\n",
       "    <tr>\n",
       "      <th>40.769800</th>\n",
       "      <th>-73.86310</th>\n",
       "      <td>24</td>\n",
       "    </tr>\n",
       "    <tr>\n",
       "      <th>40.752100</th>\n",
       "      <th>-73.93550</th>\n",
       "      <td>23</td>\n",
       "    </tr>\n",
       "    <tr>\n",
       "      <th>40.646500</th>\n",
       "      <th>-73.77720</th>\n",
       "      <td>22</td>\n",
       "    </tr>\n",
       "    <tr>\n",
       "      <th>40.769600</th>\n",
       "      <th>-73.86290</th>\n",
       "      <td>22</td>\n",
       "    </tr>\n",
       "    <tr>\n",
       "      <th>40.677900</th>\n",
       "      <th>-73.90360</th>\n",
       "      <td>21</td>\n",
       "    </tr>\n",
       "    <tr>\n",
       "      <th>40.769700</th>\n",
       "      <th>-73.86300</th>\n",
       "      <td>20</td>\n",
       "    </tr>\n",
       "    <tr>\n",
       "      <th>40.573856</th>\n",
       "      <th>-73.99879</th>\n",
       "      <td>20</td>\n",
       "    </tr>\n",
       "  </tbody>\n",
       "</table>\n",
       "</div>"
      ],
      "text/plain": [
       "                                  count\n",
       "Pickup_latitude Pickup_longitude       \n",
       "40.769600       -73.86280            33\n",
       "                -73.86340            31\n",
       "40.769700       -73.86320            25\n",
       "40.769800       -73.86310            24\n",
       "40.752100       -73.93550            23\n",
       "40.646500       -73.77720            22\n",
       "40.769600       -73.86290            22\n",
       "40.677900       -73.90360            21\n",
       "40.769700       -73.86300            20\n",
       "40.573856       -73.99879            20"
      ]
     },
     "execution_count": 6,
     "metadata": {},
     "output_type": "execute_result"
    }
   ],
   "source": [
    "df_copy[['Pickup_latitude', 'Pickup_longitude', 'count']].groupby(['Pickup_latitude', 'Pickup_longitude']).sum().sort_values('count', ascending=False).head(10)"
   ]
  },
  {
   "cell_type": "code",
   "execution_count": 7,
   "metadata": {},
   "outputs": [],
   "source": [
    "df_hour_list = []\n",
    "for hour in df_copy.hour.sort_values().unique():\n",
    "    df_hour_list.append(df_copy.loc[df_copy.hour == hour, ['Pickup_latitude', 'Pickup_longitude', 'count']].groupby(['Pickup_latitude', 'Pickup_longitude']).sum().reset_index().values.tolist())"
   ]
  },
  {
   "cell_type": "code",
   "execution_count": 8,
   "metadata": {},
   "outputs": [],
   "source": [
    "def generateBaseMap(default_location=[40.693943, -73.985880], default_zoom_start=11):\n",
    "    base_map = folium.Map(location=default_location, control_scale=True, zoom_start=default_zoom_start)\n",
    "    return base_map"
   ]
  },
  {
   "cell_type": "code",
   "execution_count": 9,
   "metadata": {},
   "outputs": [],
   "source": [
    "base_map = generateBaseMap(default_zoom_start=11)"
   ]
  },
  {
   "cell_type": "code",
   "execution_count": 10,
   "metadata": {},
   "outputs": [
    {
     "data": {
      "text/plain": [
       "<folium.plugins.heat_map_withtime.HeatMapWithTime at 0x2067826d4e0>"
      ]
     },
     "execution_count": 10,
     "metadata": {},
     "output_type": "execute_result"
    }
   ],
   "source": [
    "HeatMapWithTime(df_hour_list, radius=5, gradient={0.2:'blue', 0.4:'lime', 0.6:'orange', 1:'red'}, min_opacity=0.5, max_opacity=0.8, auto_play=True, use_local_extrema=True).add_to(base_map)"
   ]
  },
  {
   "cell_type": "code",
   "execution_count": 11,
   "metadata": {},
   "outputs": [],
   "source": [
    "base_map.save('Time Series Map.html')"
   ]
  }
 ],
 "metadata": {
  "kernelspec": {
   "display_name": "Python 3",
   "language": "python",
   "name": "python3"
  },
  "language_info": {
   "codemirror_mode": {
    "name": "ipython",
    "version": 3
   },
   "file_extension": ".py",
   "mimetype": "text/x-python",
   "name": "python",
   "nbconvert_exporter": "python",
   "pygments_lexer": "ipython3",
   "version": "3.7.3"
  }
 },
 "nbformat": 4,
 "nbformat_minor": 2
}
